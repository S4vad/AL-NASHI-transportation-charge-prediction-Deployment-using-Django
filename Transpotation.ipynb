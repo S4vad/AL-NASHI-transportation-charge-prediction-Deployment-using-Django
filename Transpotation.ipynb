{
 "cells": [
  {
   "cell_type": "markdown",
   "id": "247c41a3",
   "metadata": {},
   "source": [
    "<div style=\"padding:25px;color:black;margin:0;font-size:250%;text-align:center;display:fill;border-radius:10px;background-color:#D4C8BA;overflow:hidden;font-weight:500;font-family:magra\">AL NASHI</div>"
   ]
  },
  {
   "cell_type": "code",
   "execution_count": 112,
   "id": "1f3951b0",
   "metadata": {},
   "outputs": [],
   "source": [
    "import pandas as pd\n",
    "import numpy as np\n",
    "import matplotlib.pyplot as plt\n",
    "import seaborn as sns\n",
    "\n",
    "\n",
    "import warnings \n",
    "warnings.filterwarnings('ignore')\n",
    "\n",
    "\n",
    "from sklearn.ensemble import AdaBoostRegressor\n",
    "from sklearn.ensemble import RandomForestRegressor\n",
    "from sklearn.tree import DecisionTreeRegressor\n",
    "from sklearn.svm import SVR\n",
    "\n",
    "from sklearn.model_selection import GridSearchCV\n",
    "from sklearn.preprocessing import LabelEncoder\n",
    "from sklearn.metrics import confusion_matrix,classification_report,accuracy_score,recall_score,precision_score\n"
   ]
  },
  {
   "cell_type": "code",
   "execution_count": 113,
   "id": "8e17cb62",
   "metadata": {},
   "outputs": [],
   "source": [
    "data1=pd.read_excel(r\"C:/Users/savad/Desktop/datas/Machine learning/machine learning projects/logistic data/J AND T SEPTEMBER TRUCK SHEET (FULL) (2).xlsx\")"
   ]
  },
  {
   "cell_type": "code",
   "execution_count": 114,
   "id": "bd10d803",
   "metadata": {},
   "outputs": [
    {
     "data": {
      "text/html": [
       "<div>\n",
       "<style scoped>\n",
       "    .dataframe tbody tr th:only-of-type {\n",
       "        vertical-align: middle;\n",
       "    }\n",
       "\n",
       "    .dataframe tbody tr th {\n",
       "        vertical-align: top;\n",
       "    }\n",
       "\n",
       "    .dataframe thead th {\n",
       "        text-align: right;\n",
       "    }\n",
       "</style>\n",
       "<table border=\"1\" class=\"dataframe\">\n",
       "  <thead>\n",
       "    <tr style=\"text-align: right;\">\n",
       "      <th></th>\n",
       "      <th>Sl#</th>\n",
       "      <th>Date</th>\n",
       "      <th>From</th>\n",
       "      <th>Destination</th>\n",
       "      <th>vehcile Type</th>\n",
       "      <th>Vehcile Number</th>\n",
       "      <th>charges</th>\n",
       "    </tr>\n",
       "  </thead>\n",
       "  <tbody>\n",
       "    <tr>\n",
       "      <th>0</th>\n",
       "      <td>1</td>\n",
       "      <td>2022-09-01</td>\n",
       "      <td>RIYADH</td>\n",
       "      <td>KHAMIS MUSHAT</td>\n",
       "      <td>FSR</td>\n",
       "      <td>8453</td>\n",
       "      <td>1850</td>\n",
       "    </tr>\n",
       "    <tr>\n",
       "      <th>1</th>\n",
       "      <td>2</td>\n",
       "      <td>2022-09-01</td>\n",
       "      <td>RIYADH</td>\n",
       "      <td>MADEENAH</td>\n",
       "      <td>FSR</td>\n",
       "      <td>7228</td>\n",
       "      <td>1700</td>\n",
       "    </tr>\n",
       "    <tr>\n",
       "      <th>2</th>\n",
       "      <td>3</td>\n",
       "      <td>2022-09-01</td>\n",
       "      <td>RIYADH</td>\n",
       "      <td>JEDDAH</td>\n",
       "      <td>FSR</td>\n",
       "      <td>3807</td>\n",
       "      <td>1400</td>\n",
       "    </tr>\n",
       "    <tr>\n",
       "      <th>3</th>\n",
       "      <td>4</td>\n",
       "      <td>2022-09-01</td>\n",
       "      <td>RIYADH</td>\n",
       "      <td>KHAMIS MUSHAT</td>\n",
       "      <td>FSR</td>\n",
       "      <td>5417</td>\n",
       "      <td>1850</td>\n",
       "    </tr>\n",
       "    <tr>\n",
       "      <th>4</th>\n",
       "      <td>5</td>\n",
       "      <td>2022-09-01</td>\n",
       "      <td>RIYADH</td>\n",
       "      <td>JEDDAH</td>\n",
       "      <td>FSR</td>\n",
       "      <td>1633</td>\n",
       "      <td>1400</td>\n",
       "    </tr>\n",
       "    <tr>\n",
       "      <th>...</th>\n",
       "      <td>...</td>\n",
       "      <td>...</td>\n",
       "      <td>...</td>\n",
       "      <td>...</td>\n",
       "      <td>...</td>\n",
       "      <td>...</td>\n",
       "      <td>...</td>\n",
       "    </tr>\n",
       "    <tr>\n",
       "      <th>138</th>\n",
       "      <td>139</td>\n",
       "      <td>2022-09-29</td>\n",
       "      <td>RIYADH</td>\n",
       "      <td>JEDDAH</td>\n",
       "      <td>FSR</td>\n",
       "      <td>6404</td>\n",
       "      <td>1400</td>\n",
       "    </tr>\n",
       "    <tr>\n",
       "      <th>139</th>\n",
       "      <td>140</td>\n",
       "      <td>2022-09-29</td>\n",
       "      <td>RIYADH</td>\n",
       "      <td>JEDDAH</td>\n",
       "      <td>COOL FSR</td>\n",
       "      <td>9954</td>\n",
       "      <td>1950</td>\n",
       "    </tr>\n",
       "    <tr>\n",
       "      <th>140</th>\n",
       "      <td>141</td>\n",
       "      <td>2022-09-30</td>\n",
       "      <td>RIYADH</td>\n",
       "      <td>BURIDHA</td>\n",
       "      <td>DYNA</td>\n",
       "      <td>3511</td>\n",
       "      <td>800</td>\n",
       "    </tr>\n",
       "    <tr>\n",
       "      <th>141</th>\n",
       "      <td>142</td>\n",
       "      <td>2022-09-30</td>\n",
       "      <td>RIYADH</td>\n",
       "      <td>JEDDAH</td>\n",
       "      <td>DYNA</td>\n",
       "      <td>8378</td>\n",
       "      <td>1200</td>\n",
       "    </tr>\n",
       "    <tr>\n",
       "      <th>142</th>\n",
       "      <td>143</td>\n",
       "      <td>2022-09-30</td>\n",
       "      <td>RIYADH</td>\n",
       "      <td>KHAMIS MUSHAT</td>\n",
       "      <td>DYNA</td>\n",
       "      <td>9425</td>\n",
       "      <td>1500</td>\n",
       "    </tr>\n",
       "  </tbody>\n",
       "</table>\n",
       "<p>143 rows × 7 columns</p>\n",
       "</div>"
      ],
      "text/plain": [
       "     Sl#       Date    From     Destination vehcile Type Vehcile Number  \\\n",
       "0      1 2022-09-01  RIYADH  KHAMIS MUSHAT           FSR           8453   \n",
       "1      2 2022-09-01  RIYADH        MADEENAH          FSR           7228   \n",
       "2      3 2022-09-01  RIYADH        JEDDAH            FSR           3807   \n",
       "3      4 2022-09-01  RIYADH  KHAMIS MUSHAT           FSR           5417   \n",
       "4      5 2022-09-01  RIYADH          JEDDAH          FSR           1633   \n",
       "..   ...        ...     ...             ...          ...            ...   \n",
       "138  139 2022-09-29  RIYADH          JEDDAH          FSR           6404   \n",
       "139  140 2022-09-29  RIYADH          JEDDAH     COOL FSR           9954   \n",
       "140  141 2022-09-30  RIYADH         BURIDHA         DYNA           3511   \n",
       "141  142 2022-09-30  RIYADH          JEDDAH         DYNA           8378   \n",
       "142  143 2022-09-30  RIYADH  KHAMIS MUSHAT          DYNA           9425   \n",
       "\n",
       "     charges  \n",
       "0       1850  \n",
       "1       1700  \n",
       "2       1400  \n",
       "3       1850  \n",
       "4       1400  \n",
       "..       ...  \n",
       "138     1400  \n",
       "139     1950  \n",
       "140      800  \n",
       "141     1200  \n",
       "142     1500  \n",
       "\n",
       "[143 rows x 7 columns]"
      ]
     },
     "execution_count": 114,
     "metadata": {},
     "output_type": "execute_result"
    }
   ],
   "source": [
    "data1"
   ]
  },
  {
   "cell_type": "code",
   "execution_count": 115,
   "id": "a8785cd9",
   "metadata": {},
   "outputs": [],
   "source": [
    "data1=data1[['From','Destination','vehcile Type','charges']]"
   ]
  },
  {
   "cell_type": "code",
   "execution_count": 116,
   "id": "c91598d4",
   "metadata": {},
   "outputs": [
    {
     "data": {
      "text/html": [
       "<div>\n",
       "<style scoped>\n",
       "    .dataframe tbody tr th:only-of-type {\n",
       "        vertical-align: middle;\n",
       "    }\n",
       "\n",
       "    .dataframe tbody tr th {\n",
       "        vertical-align: top;\n",
       "    }\n",
       "\n",
       "    .dataframe thead th {\n",
       "        text-align: right;\n",
       "    }\n",
       "</style>\n",
       "<table border=\"1\" class=\"dataframe\">\n",
       "  <thead>\n",
       "    <tr style=\"text-align: right;\">\n",
       "      <th></th>\n",
       "      <th>From</th>\n",
       "      <th>Destination</th>\n",
       "      <th>vehcile Type</th>\n",
       "      <th>charges</th>\n",
       "    </tr>\n",
       "  </thead>\n",
       "  <tbody>\n",
       "    <tr>\n",
       "      <th>0</th>\n",
       "      <td>RIYADH</td>\n",
       "      <td>KHAMIS MUSHAT</td>\n",
       "      <td>FSR</td>\n",
       "      <td>1850</td>\n",
       "    </tr>\n",
       "    <tr>\n",
       "      <th>1</th>\n",
       "      <td>RIYADH</td>\n",
       "      <td>MADEENAH</td>\n",
       "      <td>FSR</td>\n",
       "      <td>1700</td>\n",
       "    </tr>\n",
       "    <tr>\n",
       "      <th>2</th>\n",
       "      <td>RIYADH</td>\n",
       "      <td>JEDDAH</td>\n",
       "      <td>FSR</td>\n",
       "      <td>1400</td>\n",
       "    </tr>\n",
       "    <tr>\n",
       "      <th>3</th>\n",
       "      <td>RIYADH</td>\n",
       "      <td>KHAMIS MUSHAT</td>\n",
       "      <td>FSR</td>\n",
       "      <td>1850</td>\n",
       "    </tr>\n",
       "    <tr>\n",
       "      <th>4</th>\n",
       "      <td>RIYADH</td>\n",
       "      <td>JEDDAH</td>\n",
       "      <td>FSR</td>\n",
       "      <td>1400</td>\n",
       "    </tr>\n",
       "  </tbody>\n",
       "</table>\n",
       "</div>"
      ],
      "text/plain": [
       "     From     Destination vehcile Type  charges\n",
       "0  RIYADH  KHAMIS MUSHAT           FSR     1850\n",
       "1  RIYADH        MADEENAH          FSR     1700\n",
       "2  RIYADH        JEDDAH            FSR     1400\n",
       "3  RIYADH  KHAMIS MUSHAT           FSR     1850\n",
       "4  RIYADH          JEDDAH          FSR     1400"
      ]
     },
     "execution_count": 116,
     "metadata": {},
     "output_type": "execute_result"
    }
   ],
   "source": [
    "data1.head()"
   ]
  },
  {
   "cell_type": "code",
   "execution_count": 117,
   "id": "b8f06ddd",
   "metadata": {},
   "outputs": [],
   "source": [
    "data1=data1.rename(columns={'vehcile Type':'Vehicle Type','charges':'Charges'})"
   ]
  },
  {
   "cell_type": "code",
   "execution_count": 118,
   "id": "44dbb7b4",
   "metadata": {},
   "outputs": [],
   "source": [
    "data2=pd.read_excel(r\"C:/Users/savad/Desktop/datas/Machine learning/machine learning projects/logistic data/Copy of Aramex Invoice Septh 2021 invice 2.xlsx\")"
   ]
  },
  {
   "cell_type": "code",
   "execution_count": 119,
   "id": "b47055ab",
   "metadata": {},
   "outputs": [
    {
     "data": {
      "text/html": [
       "<div>\n",
       "<style scoped>\n",
       "    .dataframe tbody tr th:only-of-type {\n",
       "        vertical-align: middle;\n",
       "    }\n",
       "\n",
       "    .dataframe tbody tr th {\n",
       "        vertical-align: top;\n",
       "    }\n",
       "\n",
       "    .dataframe thead th {\n",
       "        text-align: right;\n",
       "    }\n",
       "</style>\n",
       "<table border=\"1\" class=\"dataframe\">\n",
       "  <thead>\n",
       "    <tr style=\"text-align: right;\">\n",
       "      <th></th>\n",
       "      <th>Unnamed: 0</th>\n",
       "      <th>Date</th>\n",
       "      <th>From</th>\n",
       "      <th>Destination</th>\n",
       "      <th>Vehicle Type</th>\n",
       "      <th>Driver Name</th>\n",
       "      <th>Type</th>\n",
       "      <th>owner</th>\n",
       "      <th>Charges</th>\n",
       "      <th>Unnamed: 9</th>\n",
       "    </tr>\n",
       "  </thead>\n",
       "  <tbody>\n",
       "    <tr>\n",
       "      <th>0</th>\n",
       "      <td>NaN</td>\n",
       "      <td>2021-08-18</td>\n",
       "      <td>RIYADH</td>\n",
       "      <td>KHAFJI</td>\n",
       "      <td>DYNA</td>\n",
       "      <td>AL NASHI 5727 (GOPALEN)</td>\n",
       "      <td>NaN</td>\n",
       "      <td>GOPALEN</td>\n",
       "      <td>850</td>\n",
       "      <td>NaN</td>\n",
       "    </tr>\n",
       "    <tr>\n",
       "      <th>1</th>\n",
       "      <td>1.0</td>\n",
       "      <td>2021-08-26</td>\n",
       "      <td>RIYADH</td>\n",
       "      <td>NAJRAN</td>\n",
       "      <td>FSR</td>\n",
       "      <td>AL NASHI CO 8422 (WAHID)</td>\n",
       "      <td>NaN</td>\n",
       "      <td>WAHID</td>\n",
       "      <td>2200</td>\n",
       "      <td>NaN</td>\n",
       "    </tr>\n",
       "    <tr>\n",
       "      <th>2</th>\n",
       "      <td>2.0</td>\n",
       "      <td>2021-08-26</td>\n",
       "      <td>RIYADH</td>\n",
       "      <td>YANBU</td>\n",
       "      <td>FSR</td>\n",
       "      <td>MAYRGHANI</td>\n",
       "      <td>NaN</td>\n",
       "      <td>9954</td>\n",
       "      <td>2300</td>\n",
       "      <td>NaN</td>\n",
       "    </tr>\n",
       "    <tr>\n",
       "      <th>3</th>\n",
       "      <td>3.0</td>\n",
       "      <td>2021-08-26</td>\n",
       "      <td>RIYADH</td>\n",
       "      <td>QUNFUDHA</td>\n",
       "      <td>DYNA</td>\n",
       "      <td>JAMSHI</td>\n",
       "      <td>NaN</td>\n",
       "      <td>SAIFULLAH</td>\n",
       "      <td>1950</td>\n",
       "      <td>NaN</td>\n",
       "    </tr>\n",
       "    <tr>\n",
       "      <th>4</th>\n",
       "      <td>4.0</td>\n",
       "      <td>2021-08-26</td>\n",
       "      <td>RIYADH</td>\n",
       "      <td>AL BAHA</td>\n",
       "      <td>FSR</td>\n",
       "      <td>ABID HUSSAIN</td>\n",
       "      <td>NaN</td>\n",
       "      <td>ABID</td>\n",
       "      <td>1900</td>\n",
       "      <td>NaN</td>\n",
       "    </tr>\n",
       "  </tbody>\n",
       "</table>\n",
       "</div>"
      ],
      "text/plain": [
       "   Unnamed: 0       Date    From Destination Vehicle Type  \\\n",
       "0         NaN 2021-08-18  RIYADH      KHAFJI         DYNA   \n",
       "1         1.0 2021-08-26  RIYADH      NAJRAN          FSR   \n",
       "2         2.0 2021-08-26  RIYADH       YANBU          FSR   \n",
       "3         3.0 2021-08-26  RIYADH    QUNFUDHA         DYNA   \n",
       "4         4.0 2021-08-26  RIYADH     AL BAHA          FSR   \n",
       "\n",
       "                Driver Name Type      owner  Charges Unnamed: 9  \n",
       "0   AL NASHI 5727 (GOPALEN)  NaN    GOPALEN      850        NaN  \n",
       "1  AL NASHI CO 8422 (WAHID)  NaN      WAHID     2200        NaN  \n",
       "2                 MAYRGHANI  NaN       9954     2300        NaN  \n",
       "3                    JAMSHI  NaN  SAIFULLAH     1950        NaN  \n",
       "4              ABID HUSSAIN  NaN       ABID     1900        NaN  "
      ]
     },
     "execution_count": 119,
     "metadata": {},
     "output_type": "execute_result"
    }
   ],
   "source": [
    "data2.head()"
   ]
  },
  {
   "cell_type": "code",
   "execution_count": 120,
   "id": "307009ba",
   "metadata": {},
   "outputs": [],
   "source": [
    "data2=data2[['From','Destination','Vehicle Type','Charges']]"
   ]
  },
  {
   "cell_type": "code",
   "execution_count": 121,
   "id": "b87341e6",
   "metadata": {},
   "outputs": [
    {
     "data": {
      "text/html": [
       "<div>\n",
       "<style scoped>\n",
       "    .dataframe tbody tr th:only-of-type {\n",
       "        vertical-align: middle;\n",
       "    }\n",
       "\n",
       "    .dataframe tbody tr th {\n",
       "        vertical-align: top;\n",
       "    }\n",
       "\n",
       "    .dataframe thead th {\n",
       "        text-align: right;\n",
       "    }\n",
       "</style>\n",
       "<table border=\"1\" class=\"dataframe\">\n",
       "  <thead>\n",
       "    <tr style=\"text-align: right;\">\n",
       "      <th></th>\n",
       "      <th>From</th>\n",
       "      <th>Destination</th>\n",
       "      <th>Vehicle Type</th>\n",
       "      <th>Charges</th>\n",
       "    </tr>\n",
       "  </thead>\n",
       "  <tbody>\n",
       "    <tr>\n",
       "      <th>0</th>\n",
       "      <td>RIYADH</td>\n",
       "      <td>KHAFJI</td>\n",
       "      <td>DYNA</td>\n",
       "      <td>850</td>\n",
       "    </tr>\n",
       "    <tr>\n",
       "      <th>1</th>\n",
       "      <td>RIYADH</td>\n",
       "      <td>NAJRAN</td>\n",
       "      <td>FSR</td>\n",
       "      <td>2200</td>\n",
       "    </tr>\n",
       "    <tr>\n",
       "      <th>2</th>\n",
       "      <td>RIYADH</td>\n",
       "      <td>YANBU</td>\n",
       "      <td>FSR</td>\n",
       "      <td>2300</td>\n",
       "    </tr>\n",
       "    <tr>\n",
       "      <th>3</th>\n",
       "      <td>RIYADH</td>\n",
       "      <td>QUNFUDHA</td>\n",
       "      <td>DYNA</td>\n",
       "      <td>1950</td>\n",
       "    </tr>\n",
       "    <tr>\n",
       "      <th>4</th>\n",
       "      <td>RIYADH</td>\n",
       "      <td>AL BAHA</td>\n",
       "      <td>FSR</td>\n",
       "      <td>1900</td>\n",
       "    </tr>\n",
       "    <tr>\n",
       "      <th>5</th>\n",
       "      <td>RIYADH</td>\n",
       "      <td>AL JOUF</td>\n",
       "      <td>FSR</td>\n",
       "      <td>2025</td>\n",
       "    </tr>\n",
       "    <tr>\n",
       "      <th>6</th>\n",
       "      <td>RIYADH</td>\n",
       "      <td>ARAR</td>\n",
       "      <td>DYNA</td>\n",
       "      <td>1600</td>\n",
       "    </tr>\n",
       "    <tr>\n",
       "      <th>7</th>\n",
       "      <td>RIYADH</td>\n",
       "      <td>ARAR</td>\n",
       "      <td>DYNA</td>\n",
       "      <td>1600</td>\n",
       "    </tr>\n",
       "    <tr>\n",
       "      <th>8</th>\n",
       "      <td>RIYADH</td>\n",
       "      <td>AL JOUF</td>\n",
       "      <td>FSR</td>\n",
       "      <td>2025</td>\n",
       "    </tr>\n",
       "    <tr>\n",
       "      <th>9</th>\n",
       "      <td>RIYADH</td>\n",
       "      <td>HAIL</td>\n",
       "      <td>FSR</td>\n",
       "      <td>1450</td>\n",
       "    </tr>\n",
       "  </tbody>\n",
       "</table>\n",
       "</div>"
      ],
      "text/plain": [
       "     From Destination Vehicle Type  Charges\n",
       "0  RIYADH      KHAFJI         DYNA      850\n",
       "1  RIYADH      NAJRAN          FSR     2200\n",
       "2  RIYADH       YANBU          FSR     2300\n",
       "3  RIYADH    QUNFUDHA         DYNA     1950\n",
       "4  RIYADH     AL BAHA          FSR     1900\n",
       "5  RIYADH     AL JOUF          FSR     2025\n",
       "6  RIYADH        ARAR         DYNA     1600\n",
       "7  RIYADH        ARAR         DYNA     1600\n",
       "8  RIYADH     AL JOUF          FSR     2025\n",
       "9  RIYADH        HAIL          FSR     1450"
      ]
     },
     "execution_count": 121,
     "metadata": {},
     "output_type": "execute_result"
    }
   ],
   "source": [
    "data2.head(10)"
   ]
  },
  {
   "cell_type": "code",
   "execution_count": 122,
   "id": "48f407f6",
   "metadata": {},
   "outputs": [
    {
     "data": {
      "text/html": [
       "<div>\n",
       "<style scoped>\n",
       "    .dataframe tbody tr th:only-of-type {\n",
       "        vertical-align: middle;\n",
       "    }\n",
       "\n",
       "    .dataframe tbody tr th {\n",
       "        vertical-align: top;\n",
       "    }\n",
       "\n",
       "    .dataframe thead th {\n",
       "        text-align: right;\n",
       "    }\n",
       "</style>\n",
       "<table border=\"1\" class=\"dataframe\">\n",
       "  <thead>\n",
       "    <tr style=\"text-align: right;\">\n",
       "      <th></th>\n",
       "      <th>Unnamed: 0</th>\n",
       "      <th>Unnamed: 1</th>\n",
       "      <th>Date</th>\n",
       "      <th>From</th>\n",
       "      <th>Destination</th>\n",
       "      <th>Vehicle Type</th>\n",
       "      <th>Driver name</th>\n",
       "      <th>type</th>\n",
       "      <th>Owner</th>\n",
       "      <th>Charges</th>\n",
       "    </tr>\n",
       "  </thead>\n",
       "  <tbody>\n",
       "    <tr>\n",
       "      <th>0</th>\n",
       "      <td>NaN</td>\n",
       "      <td>1</td>\n",
       "      <td>26/05/2021</td>\n",
       "      <td>RIYADH</td>\n",
       "      <td>AL JOUF</td>\n",
       "      <td>DYNA</td>\n",
       "      <td>AL NASHI 8504 ( AKTHER)</td>\n",
       "      <td>NaN</td>\n",
       "      <td>AKTHER</td>\n",
       "      <td>1600</td>\n",
       "    </tr>\n",
       "    <tr>\n",
       "      <th>1</th>\n",
       "      <td>NaN</td>\n",
       "      <td>2</td>\n",
       "      <td>26/05/2021</td>\n",
       "      <td>RIYADH</td>\n",
       "      <td>AL KHARAJ</td>\n",
       "      <td>DYNA</td>\n",
       "      <td>AL NASHI CO 4950 ( M ALI)</td>\n",
       "      <td>NaN</td>\n",
       "      <td>ALI</td>\n",
       "      <td>450</td>\n",
       "    </tr>\n",
       "    <tr>\n",
       "      <th>2</th>\n",
       "      <td>NaN</td>\n",
       "      <td>3</td>\n",
       "      <td>26/05/2021</td>\n",
       "      <td>RIYADH</td>\n",
       "      <td>JEDDAH</td>\n",
       "      <td>DYNA</td>\n",
       "      <td>JAMSHI</td>\n",
       "      <td>SPCL</td>\n",
       "      <td>SAIFULLAH</td>\n",
       "      <td>1200</td>\n",
       "    </tr>\n",
       "    <tr>\n",
       "      <th>3</th>\n",
       "      <td>NaN</td>\n",
       "      <td>4</td>\n",
       "      <td>26/05/2021</td>\n",
       "      <td>RIYADH</td>\n",
       "      <td>JEDDAH</td>\n",
       "      <td>DYNA</td>\n",
       "      <td>JAMSHI</td>\n",
       "      <td>SPCL</td>\n",
       "      <td>MAJEED</td>\n",
       "      <td>1300</td>\n",
       "    </tr>\n",
       "    <tr>\n",
       "      <th>4</th>\n",
       "      <td>NaN</td>\n",
       "      <td>5</td>\n",
       "      <td>26/05/2021</td>\n",
       "      <td>RIYADH</td>\n",
       "      <td>HAIL</td>\n",
       "      <td>FSR</td>\n",
       "      <td>SUHAIL</td>\n",
       "      <td>NaN</td>\n",
       "      <td>RAFIUDHEEN</td>\n",
       "      <td>1450</td>\n",
       "    </tr>\n",
       "  </tbody>\n",
       "</table>\n",
       "</div>"
      ],
      "text/plain": [
       "   Unnamed: 0  Unnamed: 1        Date    From Destination Vehicle Type  \\\n",
       "0         NaN           1  26/05/2021  RIYADH     AL JOUF         DYNA   \n",
       "1         NaN           2  26/05/2021  RIYADH   AL KHARAJ         DYNA   \n",
       "2         NaN           3  26/05/2021  RIYADH      JEDDAH         DYNA   \n",
       "3         NaN           4  26/05/2021  RIYADH      JEDDAH         DYNA   \n",
       "4         NaN           5  26/05/2021  RIYADH        HAIL          FSR   \n",
       "\n",
       "                 Driver name  type       Owner  Charges  \n",
       "0    AL NASHI 8504 ( AKTHER)   NaN      AKTHER     1600  \n",
       "1  AL NASHI CO 4950 ( M ALI)   NaN         ALI      450  \n",
       "2                     JAMSHI  SPCL   SAIFULLAH     1200  \n",
       "3                     JAMSHI  SPCL      MAJEED     1300  \n",
       "4                     SUHAIL   NaN  RAFIUDHEEN     1450  "
      ]
     },
     "execution_count": 122,
     "metadata": {},
     "output_type": "execute_result"
    }
   ],
   "source": [
    "data3=pd.read_excel(r\"C:/Users/savad/Desktop/datas/Machine learning/machine learning projects/logistic data/new invoice 1.xlsx\")\n",
    "data3.head()"
   ]
  },
  {
   "cell_type": "code",
   "execution_count": 123,
   "id": "79a04d3c",
   "metadata": {},
   "outputs": [
    {
     "data": {
      "text/html": [
       "<div>\n",
       "<style scoped>\n",
       "    .dataframe tbody tr th:only-of-type {\n",
       "        vertical-align: middle;\n",
       "    }\n",
       "\n",
       "    .dataframe tbody tr th {\n",
       "        vertical-align: top;\n",
       "    }\n",
       "\n",
       "    .dataframe thead th {\n",
       "        text-align: right;\n",
       "    }\n",
       "</style>\n",
       "<table border=\"1\" class=\"dataframe\">\n",
       "  <thead>\n",
       "    <tr style=\"text-align: right;\">\n",
       "      <th></th>\n",
       "      <th>From</th>\n",
       "      <th>Destination</th>\n",
       "      <th>Vehicle Type</th>\n",
       "      <th>Charges</th>\n",
       "    </tr>\n",
       "  </thead>\n",
       "  <tbody>\n",
       "    <tr>\n",
       "      <th>0</th>\n",
       "      <td>RIYADH</td>\n",
       "      <td>AL JOUF</td>\n",
       "      <td>DYNA</td>\n",
       "      <td>1600</td>\n",
       "    </tr>\n",
       "    <tr>\n",
       "      <th>1</th>\n",
       "      <td>RIYADH</td>\n",
       "      <td>AL KHARAJ</td>\n",
       "      <td>DYNA</td>\n",
       "      <td>450</td>\n",
       "    </tr>\n",
       "    <tr>\n",
       "      <th>2</th>\n",
       "      <td>RIYADH</td>\n",
       "      <td>JEDDAH</td>\n",
       "      <td>DYNA</td>\n",
       "      <td>1200</td>\n",
       "    </tr>\n",
       "    <tr>\n",
       "      <th>3</th>\n",
       "      <td>RIYADH</td>\n",
       "      <td>JEDDAH</td>\n",
       "      <td>DYNA</td>\n",
       "      <td>1300</td>\n",
       "    </tr>\n",
       "    <tr>\n",
       "      <th>4</th>\n",
       "      <td>RIYADH</td>\n",
       "      <td>HAIL</td>\n",
       "      <td>FSR</td>\n",
       "      <td>1450</td>\n",
       "    </tr>\n",
       "  </tbody>\n",
       "</table>\n",
       "</div>"
      ],
      "text/plain": [
       "     From Destination Vehicle Type  Charges\n",
       "0  RIYADH     AL JOUF         DYNA     1600\n",
       "1  RIYADH   AL KHARAJ         DYNA      450\n",
       "2  RIYADH      JEDDAH         DYNA     1200\n",
       "3  RIYADH      JEDDAH         DYNA     1300\n",
       "4  RIYADH        HAIL          FSR     1450"
      ]
     },
     "execution_count": 123,
     "metadata": {},
     "output_type": "execute_result"
    }
   ],
   "source": [
    "data3=data3[['From','Destination','Vehicle Type','Charges']]\n",
    "data3.head(5)"
   ]
  },
  {
   "cell_type": "code",
   "execution_count": 124,
   "id": "6d839803",
   "metadata": {},
   "outputs": [
    {
     "data": {
      "text/html": [
       "<div>\n",
       "<style scoped>\n",
       "    .dataframe tbody tr th:only-of-type {\n",
       "        vertical-align: middle;\n",
       "    }\n",
       "\n",
       "    .dataframe tbody tr th {\n",
       "        vertical-align: top;\n",
       "    }\n",
       "\n",
       "    .dataframe thead th {\n",
       "        text-align: right;\n",
       "    }\n",
       "</style>\n",
       "<table border=\"1\" class=\"dataframe\">\n",
       "  <thead>\n",
       "    <tr style=\"text-align: right;\">\n",
       "      <th></th>\n",
       "      <th>From</th>\n",
       "      <th>Destination</th>\n",
       "      <th>Vehicle Type</th>\n",
       "      <th>Charges</th>\n",
       "    </tr>\n",
       "  </thead>\n",
       "  <tbody>\n",
       "    <tr>\n",
       "      <th>323</th>\n",
       "      <td>RIYADH</td>\n",
       "      <td>ARAR</td>\n",
       "      <td>DYNA</td>\n",
       "      <td>1600</td>\n",
       "    </tr>\n",
       "    <tr>\n",
       "      <th>324</th>\n",
       "      <td>RIYADH</td>\n",
       "      <td>AL JOUF</td>\n",
       "      <td>DYNA</td>\n",
       "      <td>1600</td>\n",
       "    </tr>\n",
       "    <tr>\n",
       "      <th>325</th>\n",
       "      <td>RIYADH</td>\n",
       "      <td>MADEENA</td>\n",
       "      <td>FSR</td>\n",
       "      <td>1700</td>\n",
       "    </tr>\n",
       "    <tr>\n",
       "      <th>326</th>\n",
       "      <td>RIYADH</td>\n",
       "      <td>MAKKAH</td>\n",
       "      <td>FSR</td>\n",
       "      <td>1400</td>\n",
       "    </tr>\n",
       "    <tr>\n",
       "      <th>327</th>\n",
       "      <td>RIYADH</td>\n",
       "      <td>DAMMAM</td>\n",
       "      <td>FSR</td>\n",
       "      <td>700</td>\n",
       "    </tr>\n",
       "  </tbody>\n",
       "</table>\n",
       "</div>"
      ],
      "text/plain": [
       "       From Destination Vehicle Type  Charges\n",
       "323  RIYADH        ARAR         DYNA     1600\n",
       "324  RIYADH     AL JOUF         DYNA     1600\n",
       "325  RIYADH     MADEENA          FSR     1700\n",
       "326  RIYADH      MAKKAH          FSR     1400\n",
       "327  RIYADH      DAMMAM          FSR      700"
      ]
     },
     "execution_count": 124,
     "metadata": {},
     "output_type": "execute_result"
    }
   ],
   "source": [
    "data4=pd.read_excel(r\"C:/Users/savad/Desktop/datas/Machine learning/machine learning projects/logistic data/Copy of Aramex chart 2022 Janu-Feb.xlsx\")\n",
    "data4=data4.rename(columns={'Vechile type':'Vehicle Type','Amount':'Charges'})\n",
    "data4=data4[['From','Destination','Vehicle Type','Charges']]\n",
    "data4.tail()"
   ]
  },
  {
   "cell_type": "code",
   "execution_count": 125,
   "id": "43f8bf37",
   "metadata": {},
   "outputs": [
    {
     "data": {
      "text/html": [
       "<div>\n",
       "<style scoped>\n",
       "    .dataframe tbody tr th:only-of-type {\n",
       "        vertical-align: middle;\n",
       "    }\n",
       "\n",
       "    .dataframe tbody tr th {\n",
       "        vertical-align: top;\n",
       "    }\n",
       "\n",
       "    .dataframe thead th {\n",
       "        text-align: right;\n",
       "    }\n",
       "</style>\n",
       "<table border=\"1\" class=\"dataframe\">\n",
       "  <thead>\n",
       "    <tr style=\"text-align: right;\">\n",
       "      <th></th>\n",
       "      <th>From</th>\n",
       "      <th>Destination</th>\n",
       "      <th>Vehicle Type</th>\n",
       "      <th>Charges</th>\n",
       "    </tr>\n",
       "  </thead>\n",
       "  <tbody>\n",
       "    <tr>\n",
       "      <th>323</th>\n",
       "      <td>RIYADH</td>\n",
       "      <td>HAIL</td>\n",
       "      <td>FSR</td>\n",
       "      <td>1450</td>\n",
       "    </tr>\n",
       "    <tr>\n",
       "      <th>324</th>\n",
       "      <td>RIYADH</td>\n",
       "      <td>WADI DAWASSIR</td>\n",
       "      <td>DYNA</td>\n",
       "      <td>700</td>\n",
       "    </tr>\n",
       "    <tr>\n",
       "      <th>325</th>\n",
       "      <td>RIYADH</td>\n",
       "      <td>DAWADMI</td>\n",
       "      <td>DYNA</td>\n",
       "      <td>600</td>\n",
       "    </tr>\n",
       "    <tr>\n",
       "      <th>326</th>\n",
       "      <td>RIYADH</td>\n",
       "      <td>ARAR</td>\n",
       "      <td>DYNA</td>\n",
       "      <td>1600</td>\n",
       "    </tr>\n",
       "    <tr>\n",
       "      <th>327</th>\n",
       "      <td>RIYADH</td>\n",
       "      <td>ABAHA</td>\n",
       "      <td>DYNA</td>\n",
       "      <td>1600</td>\n",
       "    </tr>\n",
       "  </tbody>\n",
       "</table>\n",
       "</div>"
      ],
      "text/plain": [
       "       From    Destination Vehicle Type  Charges\n",
       "323  RIYADH           HAIL          FSR     1450\n",
       "324  RIYADH  WADI DAWASSIR         DYNA      700\n",
       "325  RIYADH        DAWADMI         DYNA      600\n",
       "326  RIYADH           ARAR         DYNA     1600\n",
       "327  RIYADH          ABAHA         DYNA     1600"
      ]
     },
     "execution_count": 125,
     "metadata": {},
     "output_type": "execute_result"
    }
   ],
   "source": [
    "data5=pd.read_excel(r\"C:\\Users\\savad\\Desktop\\Copy of Aramex chart 2022 Feb-March.xlsx\")\n",
    "data5=data5.rename(columns={'Vechile type':'Vehicle Type','Amount':'Charges'})\n",
    "data5=data5[['From','Destination','Vehicle Type','Charges']]\n",
    "data5.tail()"
   ]
  },
  {
   "cell_type": "code",
   "execution_count": 126,
   "id": "b2e8b640",
   "metadata": {},
   "outputs": [],
   "source": [
    "data=pd.concat([data1,data2,data3,data4,data5])"
   ]
  },
  {
   "cell_type": "code",
   "execution_count": 127,
   "id": "f4826566",
   "metadata": {},
   "outputs": [
    {
     "data": {
      "text/html": [
       "<div>\n",
       "<style scoped>\n",
       "    .dataframe tbody tr th:only-of-type {\n",
       "        vertical-align: middle;\n",
       "    }\n",
       "\n",
       "    .dataframe tbody tr th {\n",
       "        vertical-align: top;\n",
       "    }\n",
       "\n",
       "    .dataframe thead th {\n",
       "        text-align: right;\n",
       "    }\n",
       "</style>\n",
       "<table border=\"1\" class=\"dataframe\">\n",
       "  <thead>\n",
       "    <tr style=\"text-align: right;\">\n",
       "      <th></th>\n",
       "      <th>From</th>\n",
       "      <th>Destination</th>\n",
       "      <th>Vehicle Type</th>\n",
       "      <th>Charges</th>\n",
       "    </tr>\n",
       "  </thead>\n",
       "  <tbody>\n",
       "    <tr>\n",
       "      <th>0</th>\n",
       "      <td>RIYADH</td>\n",
       "      <td>KHAMIS MUSHAT</td>\n",
       "      <td>FSR</td>\n",
       "      <td>1850</td>\n",
       "    </tr>\n",
       "    <tr>\n",
       "      <th>1</th>\n",
       "      <td>RIYADH</td>\n",
       "      <td>MADEENAH</td>\n",
       "      <td>FSR</td>\n",
       "      <td>1700</td>\n",
       "    </tr>\n",
       "    <tr>\n",
       "      <th>2</th>\n",
       "      <td>RIYADH</td>\n",
       "      <td>JEDDAH</td>\n",
       "      <td>FSR</td>\n",
       "      <td>1400</td>\n",
       "    </tr>\n",
       "    <tr>\n",
       "      <th>3</th>\n",
       "      <td>RIYADH</td>\n",
       "      <td>KHAMIS MUSHAT</td>\n",
       "      <td>FSR</td>\n",
       "      <td>1850</td>\n",
       "    </tr>\n",
       "    <tr>\n",
       "      <th>4</th>\n",
       "      <td>RIYADH</td>\n",
       "      <td>JEDDAH</td>\n",
       "      <td>FSR</td>\n",
       "      <td>1400</td>\n",
       "    </tr>\n",
       "    <tr>\n",
       "      <th>5</th>\n",
       "      <td>JEDDAH</td>\n",
       "      <td>TAIF</td>\n",
       "      <td>DYNA</td>\n",
       "      <td>800</td>\n",
       "    </tr>\n",
       "    <tr>\n",
       "      <th>6</th>\n",
       "      <td>JEDDAH</td>\n",
       "      <td>MAKKAH</td>\n",
       "      <td>DYNA</td>\n",
       "      <td>1150</td>\n",
       "    </tr>\n",
       "    <tr>\n",
       "      <th>7</th>\n",
       "      <td>BURIDHA</td>\n",
       "      <td>AL JOUF + ARAR</td>\n",
       "      <td>DYNA</td>\n",
       "      <td>1600</td>\n",
       "    </tr>\n",
       "    <tr>\n",
       "      <th>8</th>\n",
       "      <td>RIYADH</td>\n",
       "      <td>BURIDHA</td>\n",
       "      <td>DYNA</td>\n",
       "      <td>800</td>\n",
       "    </tr>\n",
       "    <tr>\n",
       "      <th>9</th>\n",
       "      <td>RIYADH</td>\n",
       "      <td>KHAMIS MUSHAT</td>\n",
       "      <td>FSR</td>\n",
       "      <td>1850</td>\n",
       "    </tr>\n",
       "  </tbody>\n",
       "</table>\n",
       "</div>"
      ],
      "text/plain": [
       "      From     Destination Vehicle Type  Charges\n",
       "0   RIYADH  KHAMIS MUSHAT           FSR     1850\n",
       "1   RIYADH        MADEENAH          FSR     1700\n",
       "2   RIYADH        JEDDAH            FSR     1400\n",
       "3   RIYADH  KHAMIS MUSHAT           FSR     1850\n",
       "4   RIYADH          JEDDAH          FSR     1400\n",
       "5   JEDDAH            TAIF         DYNA      800\n",
       "6   JEDDAH          MAKKAH         DYNA     1150\n",
       "7  BURIDHA  AL JOUF + ARAR         DYNA     1600\n",
       "8   RIYADH         BURIDHA         DYNA      800\n",
       "9   RIYADH  KHAMIS MUSHAT           FSR     1850"
      ]
     },
     "execution_count": 127,
     "metadata": {},
     "output_type": "execute_result"
    }
   ],
   "source": [
    "data.head(10)"
   ]
  },
  {
   "cell_type": "code",
   "execution_count": 128,
   "id": "f79cc29a",
   "metadata": {},
   "outputs": [
    {
     "data": {
      "text/plain": [
       "(1259, 4)"
      ]
     },
     "execution_count": 128,
     "metadata": {},
     "output_type": "execute_result"
    }
   ],
   "source": [
    "data.shape"
   ]
  },
  {
   "cell_type": "code",
   "execution_count": 129,
   "id": "fe36d1d6",
   "metadata": {},
   "outputs": [
    {
     "name": "stdout",
     "output_type": "stream",
     "text": [
      "<class 'pandas.core.frame.DataFrame'>\n",
      "Int64Index: 1259 entries, 0 to 327\n",
      "Data columns (total 4 columns):\n",
      " #   Column        Non-Null Count  Dtype \n",
      "---  ------        --------------  ----- \n",
      " 0   From          1259 non-null   object\n",
      " 1   Destination   1259 non-null   object\n",
      " 2   Vehicle Type  1259 non-null   object\n",
      " 3   Charges       1259 non-null   int64 \n",
      "dtypes: int64(1), object(3)\n",
      "memory usage: 49.2+ KB\n"
     ]
    }
   ],
   "source": [
    "data.info()"
   ]
  },
  {
   "cell_type": "markdown",
   "id": "0ffeb517",
   "metadata": {},
   "source": [
    "<div style=\"padding:25px;color:black;margin:0;font-size:250%;text-align:center;display:fill;border-radius:10px;background-color:#D4C8BA;overflow:hidden;font-weight:500;font-family:magra\">Data preprocessing</div>"
   ]
  },
  {
   "cell_type": "code",
   "execution_count": 130,
   "id": "e88e7dcd",
   "metadata": {},
   "outputs": [
    {
     "data": {
      "text/plain": [
       "From            0\n",
       "Destination     0\n",
       "Vehicle Type    0\n",
       "Charges         0\n",
       "dtype: int64"
      ]
     },
     "execution_count": 130,
     "metadata": {},
     "output_type": "execute_result"
    }
   ],
   "source": [
    "data.isna().sum()"
   ]
  },
  {
   "cell_type": "code",
   "execution_count": 131,
   "id": "7cd19e3a",
   "metadata": {},
   "outputs": [
    {
     "data": {
      "text/plain": [
       "(1259, 4)"
      ]
     },
     "execution_count": 131,
     "metadata": {},
     "output_type": "execute_result"
    }
   ],
   "source": [
    "data.dropna(inplace=True)\n",
    "data.shape"
   ]
  },
  {
   "cell_type": "code",
   "execution_count": 132,
   "id": "6847be06",
   "metadata": {},
   "outputs": [
    {
     "name": "stdout",
     "output_type": "stream",
     "text": [
      "0 ->  From -> number of unique:9    uniques:['RIYADH' 'JEDDAH' 'BURIDHA' 'MADEENAH' 'HAFER' 'HBT' 'HAIL' 'ARAR'\n",
      " 'AL JOUF']\n",
      "1 ->  Destination -> number of unique:75    uniques:['KHAMIS MUSHAT ' 'MADEENAH' 'JEDDAH  ' 'JEDDAH' 'TAIF' 'MAKKAH'\n",
      " 'AL JOUF + ARAR' 'BURIDHA' 'RIYADH' 'LOCAL TRANSFER' 'AL JOUF ' 'KHAFJI'\n",
      " 'NAJRAN' 'YANBU' 'QUNFUDHA' 'AL BAHA' 'AL JOUF' 'ARAR' 'HAIL' 'QURIYATH'\n",
      " 'HAFER AL BATHEN' 'DAWADMI  ' 'MAJMA' 'AL HASSA' 'ABAHA' 'JIZAN' 'TABUK'\n",
      " 'AIRPORT' 'DAWADMI' 'BISHA ' 'WADI DAWASSIR  ' 'AL KHARAJ + RETURN'\n",
      " 'QATEEF ' 'JUBAIL ' 'RAFHA' 'WADI DAWASSIR ' 'AL QASEEM' 'ASEER' 'DAMMAM'\n",
      " 'KOHBAR' 'RAFA' 'WADI DAWASSIR' 'AFLAJ' 'AJF' 'RAE' 'DHA' 'AL KHARAJ'\n",
      " 'AL BAHA + QUNFUDHA' 'NAJRAN\\xa0\\xa0 ' 'JUBAIL' 'MADEENA' 'AL BAHA\\xa0 '\n",
      " 'WADI DAWASSIR + RETURN' 'DAWADMI + WAITING CHARGES'\n",
      " 'AL JOUF + ARAR + RETURN' 'ARAR + RETURN' 'HAFER AL BATHEN + RETURN'\n",
      " 'HAIL + 1 EXTRA LOCATION' 'BISHA' 'WADI DAWASSIR (DEDICATED)'\n",
      " 'NAJRAN (DEDICATED)' 'DAWADMI (DEDICATED)' 'NAJRAN '\n",
      " 'AL BAHA + QUNFUNDHA' 'AL HASA' 'AL JOUF + RETURN' 'JEDDHA ' 'DAWADMI '\n",
      " 'NAJRAN + RETURN' 'HAFERBATHEN + RAFA' 'HAFER AL BATHEN + RAFA'\n",
      " 'QURIYATH ' 'AL BAHA ' 'AL JOUF + THABARJAL' 'HAFER AL BATHEN ']\n",
      "2 ->  Vehicle Type -> number of unique:6    uniques:['FSR' 'DYNA' 'SIDE CURTAIN' 'COOL FSR' 'TRUCK' 'FLATBED']\n",
      "3 ->  Charges -> number of unique:44    uniques:[1850 1700 1400  800 1150 1600 1100 1450  950 1300  600 1500 1200 1750\n",
      "  500 1950  850 2200 2300 1900 2025 1800  900 2050 2400 1475 1000  750\n",
      "  400 2000  700  450 2450 1550  650 2150 3525 1350 2600 2100 1461  250\n",
      "  300  550]\n"
     ]
    }
   ],
   "source": [
    "l=data.columns\n",
    "\n",
    "for i,col in enumerate(l):\n",
    "    unique=data[col].unique()\n",
    "    nu_unique=data[col].nunique()\n",
    "    print(f'{i} ->  {col} -> number of unique:{nu_unique}    uniques:{unique}'.format(i,col,nu_unique,unique))\n",
    "   "
   ]
  },
  {
   "cell_type": "code",
   "execution_count": 133,
   "id": "24e84d3c",
   "metadata": {},
   "outputs": [],
   "source": [
    "data['Destination']=data['Destination'].replace({'JEDDAH ':'JEDDAH','AL JOUF ':'AL JOUF',\n",
    "                                                 'DAWADMI ':'DAWADMI','WADI DAWASSIR  ':'WADI DAWASSIR',\n",
    "                                                 'WADI DAWASIR':'WADI DAWASSIR','MADEENAH':'MADEENA'})"
   ]
  },
  {
   "cell_type": "code",
   "execution_count": 134,
   "id": "0f4f879c",
   "metadata": {},
   "outputs": [
    {
     "data": {
      "text/plain": [
       "71"
      ]
     },
     "execution_count": 134,
     "metadata": {},
     "output_type": "execute_result"
    }
   ],
   "source": [
    "data['Destination'].nunique()"
   ]
  },
  {
   "cell_type": "code",
   "execution_count": 135,
   "id": "cac66542",
   "metadata": {},
   "outputs": [
    {
     "data": {
      "text/plain": [
       "RIYADH      1234\n",
       "JEDDAH        10\n",
       "BURIDHA        7\n",
       "MADEENAH       3\n",
       "HAFER          1\n",
       "HBT            1\n",
       "HAIL           1\n",
       "ARAR           1\n",
       "AL JOUF        1\n",
       "Name: From, dtype: int64"
      ]
     },
     "execution_count": 135,
     "metadata": {},
     "output_type": "execute_result"
    }
   ],
   "source": [
    "data['From'].value_counts()"
   ]
  },
  {
   "cell_type": "code",
   "execution_count": 136,
   "id": "d685c132",
   "metadata": {},
   "outputs": [],
   "source": [
    "data['From']=data['From'].apply(lambda x:x if x=='RIYADH' else np.nan)"
   ]
  },
  {
   "cell_type": "code",
   "execution_count": 137,
   "id": "28cb16f5",
   "metadata": {},
   "outputs": [
    {
     "data": {
      "text/plain": [
       "RIYADH    1234\n",
       "Name: From, dtype: int64"
      ]
     },
     "execution_count": 137,
     "metadata": {},
     "output_type": "execute_result"
    }
   ],
   "source": [
    "data['From'].value_counts()"
   ]
  },
  {
   "cell_type": "code",
   "execution_count": 138,
   "id": "930d840a",
   "metadata": {},
   "outputs": [
    {
     "data": {
      "text/plain": [
       "ARAR                      147\n",
       "AL JOUF                   131\n",
       "HAIL                      111\n",
       "MADEENA                    79\n",
       "ABAHA                      59\n",
       "                         ... \n",
       "KOHBAR                      1\n",
       "RAFA                        1\n",
       "DHA                         1\n",
       "RAE                         1\n",
       "WADI DAWASSIR + RETURN      1\n",
       "Name: Destination, Length: 71, dtype: int64"
      ]
     },
     "execution_count": 138,
     "metadata": {},
     "output_type": "execute_result"
    }
   ],
   "source": [
    "data['Destination'].value_counts()"
   ]
  },
  {
   "cell_type": "code",
   "execution_count": 139,
   "id": "1fcc6a71",
   "metadata": {},
   "outputs": [
    {
     "data": {
      "text/plain": [
       "ARAR                         147\n",
       "AL JOUF                      131\n",
       "HAIL                         111\n",
       "MADEENA                       79\n",
       "ABAHA                         59\n",
       "DAWADMI (DEDICATED)           50\n",
       "NAJRAN (DEDICATED)            50\n",
       "WADI DAWASSIR (DEDICATED)     50\n",
       "JEDDAH                        49\n",
       "QURIYATH                      48\n",
       "HAFER AL BATHEN               46\n",
       "MAKKAH                        39\n",
       "NAJRAN                        34\n",
       "KHAMIS MUSHAT                 33\n",
       "AL KHARAJ + RETURN            20\n",
       "YANBU                         20\n",
       "BURIDHA                       20\n",
       "TABUK                         20\n",
       "DAWADMI                       18\n",
       "RIYADH                        17\n",
       "AL KHARAJ                     16\n",
       "DAMMAM                        14\n",
       "LOCAL TRANSFER                14\n",
       "MAJMA                         14\n",
       "TAIF                          14\n",
       "JIZAN                         12\n",
       "AL QASEEM                     11\n",
       "AIRPORT                       11\n",
       "WADI DAWASSIR                 10\n",
       "QURIYATH                       9\n",
       "Name: Destination, dtype: int64"
      ]
     },
     "execution_count": 139,
     "metadata": {},
     "output_type": "execute_result"
    }
   ],
   "source": [
    "data['Destination'].value_counts().head(30)"
   ]
  },
  {
   "cell_type": "code",
   "execution_count": 140,
   "id": "529e8238",
   "metadata": {},
   "outputs": [],
   "source": [
    "data['Destination']=data['Destination'].apply(lambda x:x if (x=='HAIL' or x=='AL JOUF' or x=='ARAR' or\n",
    "                                                                  x=='QURIYATH' or x=='ABAHA' or x=='HAFER AL BATHEN' \n",
    "                                                                  or x=='JEDDAH' or x=='MAKKAH' or \n",
    "                                                                  x=='WADI DAWASSIR (DEDICATED)' or x=='NAJRAN (DEDICATED)'\n",
    "                                                                  or x=='DAWADMI (DEDICATED)' or x=='MADEENA' \n",
    "                                                                  or x=='NAJRAN' or x=='KHAMIS MUSHAT'\n",
    "                                                             or x=='RIYADH' or x=='AL KHARAJ'\n",
    "                                                             or x=='DAWADMI' or x=='DAMMAM' or x=='LOCAL TRANSFER' or x=='MAJMA'\n",
    "                                                             or x=='TAIF' or x=='JIZAN' or x=='AL QASEEM' or x=='WADI DAWASSIR'\n",
    "                                                             or x=='QURIYATH'\n",
    "                                                                \n",
    "                                                                  or x=='TABUK' or x=='YANBU'\n",
    "                                                                  or x=='BURIDHA') else np.nan)"
   ]
  },
  {
   "cell_type": "code",
   "execution_count": 141,
   "id": "258e2341",
   "metadata": {},
   "outputs": [
    {
     "data": {
      "text/plain": [
       "From             25\n",
       "Destination     166\n",
       "Vehicle Type      0\n",
       "Charges           0\n",
       "dtype: int64"
      ]
     },
     "execution_count": 141,
     "metadata": {},
     "output_type": "execute_result"
    }
   ],
   "source": [
    "data.isna().sum()"
   ]
  },
  {
   "cell_type": "code",
   "execution_count": 142,
   "id": "c2b9a9ef",
   "metadata": {},
   "outputs": [
    {
     "data": {
      "text/plain": [
       "(1071, 4)"
      ]
     },
     "execution_count": 142,
     "metadata": {},
     "output_type": "execute_result"
    }
   ],
   "source": [
    "data.dropna(inplace=True)\n",
    "data.shape\n"
   ]
  },
  {
   "cell_type": "code",
   "execution_count": 143,
   "id": "c606a995",
   "metadata": {},
   "outputs": [
    {
     "data": {
      "text/plain": [
       "35"
      ]
     },
     "execution_count": 143,
     "metadata": {},
     "output_type": "execute_result"
    }
   ],
   "source": [
    "data['Charges'].nunique()"
   ]
  },
  {
   "cell_type": "code",
   "execution_count": 144,
   "id": "c120ae00",
   "metadata": {},
   "outputs": [
    {
     "data": {
      "text/plain": [
       "FSR             587\n",
       "DYNA            467\n",
       "SIDE CURTAIN     10\n",
       "TRUCK             3\n",
       "FLATBED           3\n",
       "COOL FSR          1\n",
       "Name: Vehicle Type, dtype: int64"
      ]
     },
     "execution_count": 144,
     "metadata": {},
     "output_type": "execute_result"
    }
   ],
   "source": [
    "data['Vehicle Type'].value_counts()"
   ]
  },
  {
   "cell_type": "code",
   "execution_count": 145,
   "id": "39c42fce",
   "metadata": {},
   "outputs": [],
   "source": [
    " data['Vehicle Type']=data['Vehicle Type'].apply(lambda x:x if (x=='FSR' or x=='DYNA')  else np.nan)"
   ]
  },
  {
   "cell_type": "code",
   "execution_count": 146,
   "id": "6e17712d",
   "metadata": {},
   "outputs": [
    {
     "data": {
      "text/plain": [
       "FSR     587\n",
       "DYNA    467\n",
       "Name: Vehicle Type, dtype: int64"
      ]
     },
     "execution_count": 146,
     "metadata": {},
     "output_type": "execute_result"
    }
   ],
   "source": [
    "data['Vehicle Type'].value_counts()"
   ]
  },
  {
   "cell_type": "code",
   "execution_count": 147,
   "id": "7ed7dae8",
   "metadata": {},
   "outputs": [],
   "source": [
    "data.dropna(inplace=True)"
   ]
  },
  {
   "cell_type": "code",
   "execution_count": 148,
   "id": "3d7db38a",
   "metadata": {},
   "outputs": [
    {
     "data": {
      "text/plain": [
       "From            0\n",
       "Destination     0\n",
       "Vehicle Type    0\n",
       "Charges         0\n",
       "dtype: int64"
      ]
     },
     "execution_count": 148,
     "metadata": {},
     "output_type": "execute_result"
    }
   ],
   "source": [
    "data.isna().sum()"
   ]
  },
  {
   "cell_type": "code",
   "execution_count": 149,
   "id": "0b1ffac0",
   "metadata": {},
   "outputs": [],
   "source": [
    "# data.dtypes"
   ]
  },
  {
   "cell_type": "code",
   "execution_count": null,
   "id": "f608c930",
   "metadata": {},
   "outputs": [],
   "source": []
  },
  {
   "cell_type": "code",
   "execution_count": 150,
   "id": "22fba84f",
   "metadata": {},
   "outputs": [],
   "source": [
    "data['Charges']=data['Charges'].apply(lambda x:int(x))"
   ]
  },
  {
   "cell_type": "code",
   "execution_count": 151,
   "id": "781d3de0",
   "metadata": {},
   "outputs": [
    {
     "data": {
      "text/plain": [
       "From            object\n",
       "Destination     object\n",
       "Vehicle Type    object\n",
       "Charges          int64\n",
       "dtype: object"
      ]
     },
     "execution_count": 151,
     "metadata": {},
     "output_type": "execute_result"
    }
   ],
   "source": [
    "data.dtypes"
   ]
  },
  {
   "cell_type": "code",
   "execution_count": 152,
   "id": "229ecb76",
   "metadata": {},
   "outputs": [],
   "source": [
    "data=data.reset_index()\n",
    "data.drop('index',axis=1,inplace=True)"
   ]
  },
  {
   "cell_type": "code",
   "execution_count": 153,
   "id": "4cfb672c",
   "metadata": {},
   "outputs": [
    {
     "data": {
      "text/html": [
       "<div>\n",
       "<style scoped>\n",
       "    .dataframe tbody tr th:only-of-type {\n",
       "        vertical-align: middle;\n",
       "    }\n",
       "\n",
       "    .dataframe tbody tr th {\n",
       "        vertical-align: top;\n",
       "    }\n",
       "\n",
       "    .dataframe thead th {\n",
       "        text-align: right;\n",
       "    }\n",
       "</style>\n",
       "<table border=\"1\" class=\"dataframe\">\n",
       "  <thead>\n",
       "    <tr style=\"text-align: right;\">\n",
       "      <th></th>\n",
       "      <th>From</th>\n",
       "      <th>Destination</th>\n",
       "      <th>Vehicle Type</th>\n",
       "      <th>Charges</th>\n",
       "    </tr>\n",
       "  </thead>\n",
       "  <tbody>\n",
       "    <tr>\n",
       "      <th>0</th>\n",
       "      <td>RIYADH</td>\n",
       "      <td>MADEENA</td>\n",
       "      <td>FSR</td>\n",
       "      <td>1700</td>\n",
       "    </tr>\n",
       "    <tr>\n",
       "      <th>1</th>\n",
       "      <td>RIYADH</td>\n",
       "      <td>JEDDAH</td>\n",
       "      <td>FSR</td>\n",
       "      <td>1400</td>\n",
       "    </tr>\n",
       "    <tr>\n",
       "      <th>2</th>\n",
       "      <td>RIYADH</td>\n",
       "      <td>BURIDHA</td>\n",
       "      <td>DYNA</td>\n",
       "      <td>800</td>\n",
       "    </tr>\n",
       "    <tr>\n",
       "      <th>3</th>\n",
       "      <td>RIYADH</td>\n",
       "      <td>JEDDAH</td>\n",
       "      <td>FSR</td>\n",
       "      <td>1400</td>\n",
       "    </tr>\n",
       "    <tr>\n",
       "      <th>4</th>\n",
       "      <td>RIYADH</td>\n",
       "      <td>MADEENA</td>\n",
       "      <td>DYNA</td>\n",
       "      <td>1450</td>\n",
       "    </tr>\n",
       "    <tr>\n",
       "      <th>5</th>\n",
       "      <td>RIYADH</td>\n",
       "      <td>MADEENA</td>\n",
       "      <td>FSR</td>\n",
       "      <td>1700</td>\n",
       "    </tr>\n",
       "    <tr>\n",
       "      <th>6</th>\n",
       "      <td>RIYADH</td>\n",
       "      <td>BURIDHA</td>\n",
       "      <td>FSR</td>\n",
       "      <td>950</td>\n",
       "    </tr>\n",
       "    <tr>\n",
       "      <th>7</th>\n",
       "      <td>RIYADH</td>\n",
       "      <td>JEDDAH</td>\n",
       "      <td>FSR</td>\n",
       "      <td>1400</td>\n",
       "    </tr>\n",
       "    <tr>\n",
       "      <th>8</th>\n",
       "      <td>RIYADH</td>\n",
       "      <td>MADEENA</td>\n",
       "      <td>FSR</td>\n",
       "      <td>1700</td>\n",
       "    </tr>\n",
       "    <tr>\n",
       "      <th>9</th>\n",
       "      <td>RIYADH</td>\n",
       "      <td>MADEENA</td>\n",
       "      <td>FSR</td>\n",
       "      <td>1700</td>\n",
       "    </tr>\n",
       "  </tbody>\n",
       "</table>\n",
       "</div>"
      ],
      "text/plain": [
       "     From Destination Vehicle Type  Charges\n",
       "0  RIYADH     MADEENA          FSR     1700\n",
       "1  RIYADH      JEDDAH          FSR     1400\n",
       "2  RIYADH     BURIDHA         DYNA      800\n",
       "3  RIYADH      JEDDAH          FSR     1400\n",
       "4  RIYADH     MADEENA         DYNA     1450\n",
       "5  RIYADH     MADEENA          FSR     1700\n",
       "6  RIYADH     BURIDHA          FSR      950\n",
       "7  RIYADH      JEDDAH          FSR     1400\n",
       "8  RIYADH     MADEENA          FSR     1700\n",
       "9  RIYADH     MADEENA          FSR     1700"
      ]
     },
     "execution_count": 153,
     "metadata": {},
     "output_type": "execute_result"
    }
   ],
   "source": [
    "data.head(10)"
   ]
  },
  {
   "cell_type": "code",
   "execution_count": 154,
   "id": "12741602",
   "metadata": {},
   "outputs": [
    {
     "data": {
      "image/png": "[encoded data removed]",
      "text/plain": [
       "<Figure size 720x144 with 1 Axes>"
      ]
     },
     "metadata": {},
     "output_type": "display_data"
    }
   ],
   "source": [
    "plt.figure(figsize=(10,2))\n",
    "sns.boxplot(data['Charges'],palette='viridis')\n",
    "plt.show()"
   ]
  },
  {
   "cell_type": "code",
   "execution_count": 155,
   "id": "2f76a01f",
   "metadata": {},
   "outputs": [],
   "source": [
    "# q1,q3=np.percentile(data['Charges'],[25,75])\n",
    "# iqr=q3-q1\n",
    "# lower=q1-(iqr*1.5)\n",
    "# upper=q3+(iqr*1.5)\n",
    "# data['Charges']= np.where(data['Charges']>upper,upper,np.where(data['Charges']<lower,lower,data['Charges']))"
   ]
  },
  {
   "cell_type": "code",
   "execution_count": 156,
   "id": "e55cc4ed",
   "metadata": {},
   "outputs": [],
   "source": [
    "datas=data.copy()"
   ]
  },
  {
   "cell_type": "code",
   "execution_count": 157,
   "id": "3ba62647",
   "metadata": {},
   "outputs": [
    {
     "data": {
      "text/plain": [
       "array(['MADEENA', 'JEDDAH', 'BURIDHA', 'LOCAL TRANSFER', 'NAJRAN',\n",
       "       'YANBU', 'AL JOUF', 'ARAR', 'HAIL', 'QURIYATH', 'HAFER AL BATHEN',\n",
       "       'MAJMA', 'ABAHA', 'JIZAN', 'TABUK', 'MAKKAH', 'DAWADMI',\n",
       "       'WADI DAWASSIR', 'AL QASEEM', 'DAMMAM', 'AL KHARAJ',\n",
       "       'WADI DAWASSIR (DEDICATED)', 'NAJRAN (DEDICATED)',\n",
       "       'DAWADMI (DEDICATED)', 'TAIF'], dtype=object)"
      ]
     },
     "execution_count": 157,
     "metadata": {},
     "output_type": "execute_result"
    }
   ],
   "source": [
    "data['Destination'].unique()"
   ]
  },
  {
   "cell_type": "code",
   "execution_count": 158,
   "id": "7a284684",
   "metadata": {},
   "outputs": [],
   "source": [
    "le=LabelEncoder()\n",
    "data['From']=le.fit_transform(data['From'])\n",
    "data['Destination']=le.fit_transform(data['Destination'])\n",
    "data['Vehicle Type']=le.fit_transform(data['Vehicle Type'])"
   ]
  },
  {
   "cell_type": "code",
   "execution_count": 159,
   "id": "2de59439",
   "metadata": {},
   "outputs": [
    {
     "data": {
      "text/plain": [
       "array([14, 11,  5, 13, 17, 24,  1,  4, 10, 19,  9, 15,  0, 12, 20, 16,  7,\n",
       "       22,  3,  6,  2, 23, 18,  8, 21])"
      ]
     },
     "execution_count": 159,
     "metadata": {},
     "output_type": "execute_result"
    }
   ],
   "source": [
    "data['Destination'].unique()"
   ]
  },
  {
   "cell_type": "code",
   "execution_count": 160,
   "id": "31bf3fa6",
   "metadata": {},
   "outputs": [
    {
     "data": {
      "text/html": [
       "<div>\n",
       "<style scoped>\n",
       "    .dataframe tbody tr th:only-of-type {\n",
       "        vertical-align: middle;\n",
       "    }\n",
       "\n",
       "    .dataframe tbody tr th {\n",
       "        vertical-align: top;\n",
       "    }\n",
       "\n",
       "    .dataframe thead th {\n",
       "        text-align: right;\n",
       "    }\n",
       "</style>\n",
       "<table border=\"1\" class=\"dataframe\">\n",
       "  <thead>\n",
       "    <tr style=\"text-align: right;\">\n",
       "      <th></th>\n",
       "      <th>From</th>\n",
       "      <th>Destination</th>\n",
       "      <th>Vehicle Type</th>\n",
       "      <th>Charges</th>\n",
       "    </tr>\n",
       "  </thead>\n",
       "  <tbody>\n",
       "    <tr>\n",
       "      <th>0</th>\n",
       "      <td>0</td>\n",
       "      <td>14</td>\n",
       "      <td>1</td>\n",
       "      <td>1700</td>\n",
       "    </tr>\n",
       "    <tr>\n",
       "      <th>1</th>\n",
       "      <td>0</td>\n",
       "      <td>11</td>\n",
       "      <td>1</td>\n",
       "      <td>1400</td>\n",
       "    </tr>\n",
       "    <tr>\n",
       "      <th>2</th>\n",
       "      <td>0</td>\n",
       "      <td>5</td>\n",
       "      <td>0</td>\n",
       "      <td>800</td>\n",
       "    </tr>\n",
       "    <tr>\n",
       "      <th>3</th>\n",
       "      <td>0</td>\n",
       "      <td>11</td>\n",
       "      <td>1</td>\n",
       "      <td>1400</td>\n",
       "    </tr>\n",
       "    <tr>\n",
       "      <th>4</th>\n",
       "      <td>0</td>\n",
       "      <td>14</td>\n",
       "      <td>0</td>\n",
       "      <td>1450</td>\n",
       "    </tr>\n",
       "    <tr>\n",
       "      <th>...</th>\n",
       "      <td>...</td>\n",
       "      <td>...</td>\n",
       "      <td>...</td>\n",
       "      <td>...</td>\n",
       "    </tr>\n",
       "    <tr>\n",
       "      <th>1049</th>\n",
       "      <td>0</td>\n",
       "      <td>10</td>\n",
       "      <td>1</td>\n",
       "      <td>1450</td>\n",
       "    </tr>\n",
       "    <tr>\n",
       "      <th>1050</th>\n",
       "      <td>0</td>\n",
       "      <td>22</td>\n",
       "      <td>0</td>\n",
       "      <td>700</td>\n",
       "    </tr>\n",
       "    <tr>\n",
       "      <th>1051</th>\n",
       "      <td>0</td>\n",
       "      <td>7</td>\n",
       "      <td>0</td>\n",
       "      <td>600</td>\n",
       "    </tr>\n",
       "    <tr>\n",
       "      <th>1052</th>\n",
       "      <td>0</td>\n",
       "      <td>4</td>\n",
       "      <td>0</td>\n",
       "      <td>1600</td>\n",
       "    </tr>\n",
       "    <tr>\n",
       "      <th>1053</th>\n",
       "      <td>0</td>\n",
       "      <td>0</td>\n",
       "      <td>0</td>\n",
       "      <td>1600</td>\n",
       "    </tr>\n",
       "  </tbody>\n",
       "</table>\n",
       "<p>1054 rows × 4 columns</p>\n",
       "</div>"
      ],
      "text/plain": [
       "      From  Destination  Vehicle Type  Charges\n",
       "0        0           14             1     1700\n",
       "1        0           11             1     1400\n",
       "2        0            5             0      800\n",
       "3        0           11             1     1400\n",
       "4        0           14             0     1450\n",
       "...    ...          ...           ...      ...\n",
       "1049     0           10             1     1450\n",
       "1050     0           22             0      700\n",
       "1051     0            7             0      600\n",
       "1052     0            4             0     1600\n",
       "1053     0            0             0     1600\n",
       "\n",
       "[1054 rows x 4 columns]"
      ]
     },
     "execution_count": 160,
     "metadata": {},
     "output_type": "execute_result"
    }
   ],
   "source": [
    "data"
   ]
  },
  {
   "cell_type": "markdown",
   "id": "58c74f39",
   "metadata": {},
   "source": [
    "<div style=\"padding:25px;color:black;margin:0;font-size:200%;text-align:center;display:fill;border-radius:10px;background-color:#B9C0C9;overflow:hidden;font-weight:500;font-family:magra\">Correlation heatmap</div>"
   ]
  },
  {
   "cell_type": "code",
   "execution_count": 161,
   "id": "ce05edc4",
   "metadata": {},
   "outputs": [
    {
     "data": {
      "image/png": "[encoded data removed]",
      "text/plain": [
       "<Figure size 720x576 with 2 Axes>"
      ]
     },
     "metadata": {},
     "output_type": "display_data"
    }
   ],
   "source": [
    "df=data.drop('From',axis=1)\n",
    "correlation=df.corr()\n",
    "plt.figure(figsize=(10,8))\n",
    "sns.heatmap(correlation,cmap='Blues',annot=True)\n",
    "plt.show()"
   ]
  },
  {
   "cell_type": "markdown",
   "id": "f75d33dc",
   "metadata": {},
   "source": [
    "<div style=\"padding:25px;color:black;margin:0;font-size:250%;text-align:center;display:fill;border-radius:10px;background-color:#D4C8BA;overflow:hidden;font-weight:500;font-family:magra\">Data visualization</div>"
   ]
  },
  {
   "cell_type": "code",
   "execution_count": 162,
   "id": "3bbe54cc",
   "metadata": {
    "scrolled": false
   },
   "outputs": [
    {
     "data": {
      "image/png": "[encoded data removed]",
      "text/plain": [
       "<Figure size 1008x1080 with 2 Axes>"
      ]
     },
     "metadata": {},
     "output_type": "display_data"
    }
   ],
   "source": [
    "plt.figure(figsize=(14,15))\n",
    "cols=['Destination','Vehicle Type']\n",
    "for i,name in enumerate(cols):\n",
    "    plt.subplot(2,1,i+1)\n",
    "    sns.countplot(datas[name],palette='flare')\n",
    "    plt.xlabel(name)\n",
    "    plt.title(name+'  counts',color='green',size=20)\n",
    "    plt.xticks(rotation=90)"
   ]
  },
  {
   "cell_type": "code",
   "execution_count": 163,
   "id": "43ac02e4",
   "metadata": {
    "scrolled": true
   },
   "outputs": [
    {
     "data": {
      "image/png": "[encoded data removed]",
      "text/plain": [
       "<Figure size 360x360 with 1 Axes>"
      ]
     },
     "metadata": {},
     "output_type": "display_data"
    }
   ],
   "source": [
    "\n",
    "sns.displot(data['Charges'],kde=True,lw=10,color='orange')\n",
    "plt.show()"
   ]
  },
  {
   "cell_type": "markdown",
   "id": "67bfc390",
   "metadata": {},
   "source": [
    "### Let's check top 7 Charges "
   ]
  },
  {
   "cell_type": "code",
   "execution_count": 164,
   "id": "be58ef17",
   "metadata": {},
   "outputs": [],
   "source": [
    "sns.set_style(\"white\")\n",
    "sns.set(rc={\"axes.facecolor\":\"#D4C8BA\",\"figure.facecolor\":\"#D4C8BA\"})\n",
    "sns.set_context(context=None,font_scale = .7)\n"
   ]
  },
  {
   "cell_type": "code",
   "execution_count": 165,
   "id": "ad2b1925",
   "metadata": {},
   "outputs": [
    {
     "data": {
      "text/plain": [
       "[1600, 1450, 1000, 2025, 1400, 600, 1700]"
      ]
     },
     "execution_count": 165,
     "metadata": {},
     "output_type": "execute_result"
    }
   ],
   "source": [
    "list(data[\"Charges\"].value_counts().keys()[0:7])"
   ]
  },
  {
   "cell_type": "code",
   "execution_count": 166,
   "id": "6c6ad80e",
   "metadata": {
    "scrolled": true
   },
   "outputs": [
    {
     "data": {
      "image/png": "[encoded data removed]",
      "text/plain": [
       "<Figure size 792x720 with 1 Axes>"
      ]
     },
     "metadata": {},
     "output_type": "display_data"
    }
   ],
   "source": [
    "plt.figure(figsize=(11,10))\n",
    "values= data[\"Charges\"].value_counts()[0:7]\n",
    "label=list(data[\"Charges\"].value_counts().keys()[0:7])\n",
    "wedges, texts, autotexts=plt.pie(values,\n",
    "                                 textprops=dict(size=20,color='white'),\n",
    "                                  autopct='%1.1f%%',\n",
    "                                          pctdistance = 0.7,\n",
    "                                 colors=['#d07b95','#7289da',\"#B9C0C9\",'#b6a066','#4fb2a1','#94583C','#125183'],\n",
    "                                shadow=True,startangle=20,\n",
    "                                wedgeprops=dict(width=0.5,edgecolor='black',linewidth=5))\n",
    "plt.legend(wedges,labels=label,loc='upper right',title='Charges',edgecolor='black',fontsize=14)\n",
    "plt.title('\\n,\\nTop 7 charges',fontsize=20)\n",
    "plt.show()"
   ]
  },
  {
   "cell_type": "code",
   "execution_count": 167,
   "id": "557e9895",
   "metadata": {},
   "outputs": [],
   "source": [
    "# def displot_hue(data,x):\n",
    "#     sns.displot(data=data,x=x,hue=\"Charges\",kde=True,bins=40,col=\"Charges\",height=9).set(title=(f\"Density Plots\\n{x}\"))\n",
    "\n",
    "    \n",
    "# numerical=['Destination','Vehicle Type']\n",
    "# for feature in numerical:\n",
    "#     displot_hue(data=datas, x=feature)"
   ]
  },
  {
   "cell_type": "code",
   "execution_count": 168,
   "id": "f74c6d1d",
   "metadata": {},
   "outputs": [
    {
     "data": {
      "image/png": "[encoded data removed]",
      "text/plain": [
       "<Figure size 1296x648 with 1 Axes>"
      ]
     },
     "metadata": {},
     "output_type": "display_data"
    }
   ],
   "source": [
    "plt.figure(figsize=(18,9))\n",
    "sns.countplot(datas['Destination'],hue=datas['Vehicle Type'])\n",
    "plt.xticks(rotation=90)\n",
    "plt.show()"
   ]
  },
  {
   "cell_type": "code",
   "execution_count": 169,
   "id": "5334cab4",
   "metadata": {},
   "outputs": [],
   "source": [
    "from sklearn.model_selection import train_test_split"
   ]
  },
  {
   "cell_type": "code",
   "execution_count": 170,
   "id": "2d7edaa7",
   "metadata": {},
   "outputs": [],
   "source": [
    "x=data.drop('Charges',axis=1)\n",
    "y=data['Charges']"
   ]
  },
  {
   "cell_type": "code",
   "execution_count": 171,
   "id": "f64802ec",
   "metadata": {},
   "outputs": [],
   "source": [
    "x_train,x_test,y_train,y_test=train_test_split(x,y,test_size=0.30,random_state=15)"
   ]
  },
  {
   "cell_type": "markdown",
   "id": "75984d8e",
   "metadata": {},
   "source": [
    "<div style=\"padding:25px;color:black;margin:0;font-size:250%;text-align:center;display:fill;border-radius:10px;background-color:#D4C8BA;overflow:hidden;font-weight:500;font-family:magra\">Hyperparameter tuning</div>"
   ]
  },
  {
   "cell_type": "code",
   "execution_count": 172,
   "id": "6e45d6db",
   "metadata": {},
   "outputs": [],
   "source": [
    "t_model={'Randomforest':{'model':RandomForestRegressor(),'param':{'n_estimators':[1,5,60,57,100]}},\n",
    "       'Decisiontree':{'model':DecisionTreeRegressor(),'param':{'max_depth':[1,4,7,10,2,16]}},\n",
    "        'Adaboosting':{'model':AdaBoostRegressor(),'param':{'n_estimators':[10,40,50,70],\n",
    "                     'base_estimator':[None],'learning_rate':[0.2,0.3,0.5],'random_state':\n",
    "                                                            [20,30,40,100]}}}"
   ]
  },
  {
   "cell_type": "code",
   "execution_count": 173,
   "id": "0c3b4691",
   "metadata": {},
   "outputs": [],
   "source": [
    "models=['Randomforest','Decisiontree','Adaboosting']\n",
    "scores=[]\n",
    "for i in models:\n",
    "    mp=t_model[i]\n",
    "    gds=GridSearchCV(mp['model'],mp['param'],return_train_score=True,cv=5)\n",
    "    gds.fit(x_train,y_train)\n",
    "    scores.append({'model':i,'best_score':gds.best_score_,'best_parameter':gds.best_params_})    "
   ]
  },
  {
   "cell_type": "code",
   "execution_count": 174,
   "id": "bec7c49d",
   "metadata": {
    "scrolled": true
   },
   "outputs": [
    {
     "data": {
      "text/html": [
       "<div>\n",
       "<style scoped>\n",
       "    .dataframe tbody tr th:only-of-type {\n",
       "        vertical-align: middle;\n",
       "    }\n",
       "\n",
       "    .dataframe tbody tr th {\n",
       "        vertical-align: top;\n",
       "    }\n",
       "\n",
       "    .dataframe thead th {\n",
       "        text-align: right;\n",
       "    }\n",
       "</style>\n",
       "<table border=\"1\" class=\"dataframe\">\n",
       "  <thead>\n",
       "    <tr style=\"text-align: right;\">\n",
       "      <th></th>\n",
       "      <th>model</th>\n",
       "      <th>best_score</th>\n",
       "      <th>best_parameter</th>\n",
       "    </tr>\n",
       "  </thead>\n",
       "  <tbody>\n",
       "    <tr>\n",
       "      <th>0</th>\n",
       "      <td>Randomforest</td>\n",
       "      <td>0.971846</td>\n",
       "      <td>{'n_estimators': 5}</td>\n",
       "    </tr>\n",
       "    <tr>\n",
       "      <th>1</th>\n",
       "      <td>Decisiontree</td>\n",
       "      <td>0.973889</td>\n",
       "      <td>{'max_depth': 16}</td>\n",
       "    </tr>\n",
       "    <tr>\n",
       "      <th>2</th>\n",
       "      <td>Adaboosting</td>\n",
       "      <td>0.592634</td>\n",
       "      <td>{'base_estimator': None, 'learning_rate': 0.5,...</td>\n",
       "    </tr>\n",
       "  </tbody>\n",
       "</table>\n",
       "</div>"
      ],
      "text/plain": [
       "          model  best_score                                     best_parameter\n",
       "0  Randomforest    0.971846                                {'n_estimators': 5}\n",
       "1  Decisiontree    0.973889                                  {'max_depth': 16}\n",
       "2   Adaboosting    0.592634  {'base_estimator': None, 'learning_rate': 0.5,..."
      ]
     },
     "execution_count": 174,
     "metadata": {},
     "output_type": "execute_result"
    }
   ],
   "source": [
    "score=pd.DataFrame(scores)\n",
    "score"
   ]
  },
  {
   "cell_type": "code",
   "execution_count": 175,
   "id": "ff5eceb8",
   "metadata": {},
   "outputs": [],
   "source": [
    "# def svm_eval(x,y,C,degree,test_size,gamma):\n",
    "#     eval_df=pd.DataFrame()\n",
    "#     for xx in test_size:\n",
    "#         x_train,x_test,y_train,y_test=train_test_split(x,y,test_size=xx,random_state=10)\n",
    "#         for c in C:\n",
    "#             for deg in degree:\n",
    "#                 for gam in gamma:\n",
    "#                     model=SVR(gamma=gam,C=c,degree=deg)\n",
    "#                     model.fit(x_train,y_train)\n",
    "#                     y_pred=model.predict(x_test)\n",
    "                    \n",
    "#                     dict={'test_size':xx,'C':c,'degree':deg,'gamma':gam,'score':model.score(x_test,y_test)}\n",
    "#                     eval_df=eval_df.append(dict,ignore_index=True)\n",
    "#     return(eval_df)"
   ]
  },
  {
   "cell_type": "code",
   "execution_count": 176,
   "id": "7917fde6",
   "metadata": {},
   "outputs": [],
   "source": [
    "# C=range(5,11)\n",
    "# eval_df=svm_eval(x,y,C,degree=[5,10,15],test_size=[.15,.20,.25,.30],gamma=['auto','scale'])"
   ]
  },
  {
   "cell_type": "code",
   "execution_count": 177,
   "id": "5496aa5f",
   "metadata": {},
   "outputs": [],
   "source": [
    "# eval_df"
   ]
  },
  {
   "cell_type": "code",
   "execution_count": 178,
   "id": "c9c1c913",
   "metadata": {},
   "outputs": [],
   "source": [
    "# eval_df[eval_df['score']>0.80]"
   ]
  },
  {
   "cell_type": "code",
   "execution_count": 179,
   "id": "bb6e1556",
   "metadata": {
    "scrolled": true
   },
   "outputs": [],
   "source": [
    "# dic=[{'model':'SVC','best_score':0.946372,'best_parameter':{'c':0.3,'degree':15,'gamma':\"auto\"}}]\n",
    "# df=pd.DataFrame(dic)\n",
    "# df"
   ]
  },
  {
   "cell_type": "code",
   "execution_count": 180,
   "id": "c498766c",
   "metadata": {},
   "outputs": [
    {
     "data": {
      "text/html": [
       "<div>\n",
       "<style scoped>\n",
       "    .dataframe tbody tr th:only-of-type {\n",
       "        vertical-align: middle;\n",
       "    }\n",
       "\n",
       "    .dataframe tbody tr th {\n",
       "        vertical-align: top;\n",
       "    }\n",
       "\n",
       "    .dataframe thead th {\n",
       "        text-align: right;\n",
       "    }\n",
       "</style>\n",
       "<table border=\"1\" class=\"dataframe\">\n",
       "  <thead>\n",
       "    <tr style=\"text-align: right;\">\n",
       "      <th></th>\n",
       "      <th>model</th>\n",
       "      <th>best_score</th>\n",
       "      <th>best_parameter</th>\n",
       "      <th>Destination</th>\n",
       "      <th>Vehicle Type</th>\n",
       "      <th>Charges</th>\n",
       "    </tr>\n",
       "  </thead>\n",
       "  <tbody>\n",
       "    <tr>\n",
       "      <th>0</th>\n",
       "      <td>Randomforest</td>\n",
       "      <td>0.971846</td>\n",
       "      <td>{'n_estimators': 5}</td>\n",
       "      <td>NaN</td>\n",
       "      <td>NaN</td>\n",
       "      <td>NaN</td>\n",
       "    </tr>\n",
       "    <tr>\n",
       "      <th>1</th>\n",
       "      <td>Decisiontree</td>\n",
       "      <td>0.973889</td>\n",
       "      <td>{'max_depth': 16}</td>\n",
       "      <td>NaN</td>\n",
       "      <td>NaN</td>\n",
       "      <td>NaN</td>\n",
       "    </tr>\n",
       "    <tr>\n",
       "      <th>2</th>\n",
       "      <td>Adaboosting</td>\n",
       "      <td>0.592634</td>\n",
       "      <td>{'base_estimator': None, 'learning_rate': 0.5,...</td>\n",
       "      <td>NaN</td>\n",
       "      <td>NaN</td>\n",
       "      <td>NaN</td>\n",
       "    </tr>\n",
       "    <tr>\n",
       "      <th>0</th>\n",
       "      <td>NaN</td>\n",
       "      <td>NaN</td>\n",
       "      <td>NaN</td>\n",
       "      <td>14.0</td>\n",
       "      <td>1.0</td>\n",
       "      <td>1700.0</td>\n",
       "    </tr>\n",
       "    <tr>\n",
       "      <th>1</th>\n",
       "      <td>NaN</td>\n",
       "      <td>NaN</td>\n",
       "      <td>NaN</td>\n",
       "      <td>11.0</td>\n",
       "      <td>1.0</td>\n",
       "      <td>1400.0</td>\n",
       "    </tr>\n",
       "    <tr>\n",
       "      <th>...</th>\n",
       "      <td>...</td>\n",
       "      <td>...</td>\n",
       "      <td>...</td>\n",
       "      <td>...</td>\n",
       "      <td>...</td>\n",
       "      <td>...</td>\n",
       "    </tr>\n",
       "    <tr>\n",
       "      <th>1049</th>\n",
       "      <td>NaN</td>\n",
       "      <td>NaN</td>\n",
       "      <td>NaN</td>\n",
       "      <td>10.0</td>\n",
       "      <td>1.0</td>\n",
       "      <td>1450.0</td>\n",
       "    </tr>\n",
       "    <tr>\n",
       "      <th>1050</th>\n",
       "      <td>NaN</td>\n",
       "      <td>NaN</td>\n",
       "      <td>NaN</td>\n",
       "      <td>22.0</td>\n",
       "      <td>0.0</td>\n",
       "      <td>700.0</td>\n",
       "    </tr>\n",
       "    <tr>\n",
       "      <th>1051</th>\n",
       "      <td>NaN</td>\n",
       "      <td>NaN</td>\n",
       "      <td>NaN</td>\n",
       "      <td>7.0</td>\n",
       "      <td>0.0</td>\n",
       "      <td>600.0</td>\n",
       "    </tr>\n",
       "    <tr>\n",
       "      <th>1052</th>\n",
       "      <td>NaN</td>\n",
       "      <td>NaN</td>\n",
       "      <td>NaN</td>\n",
       "      <td>4.0</td>\n",
       "      <td>0.0</td>\n",
       "      <td>1600.0</td>\n",
       "    </tr>\n",
       "    <tr>\n",
       "      <th>1053</th>\n",
       "      <td>NaN</td>\n",
       "      <td>NaN</td>\n",
       "      <td>NaN</td>\n",
       "      <td>0.0</td>\n",
       "      <td>0.0</td>\n",
       "      <td>1600.0</td>\n",
       "    </tr>\n",
       "  </tbody>\n",
       "</table>\n",
       "<p>1057 rows × 6 columns</p>\n",
       "</div>"
      ],
      "text/plain": [
       "             model  best_score  \\\n",
       "0     Randomforest    0.971846   \n",
       "1     Decisiontree    0.973889   \n",
       "2      Adaboosting    0.592634   \n",
       "0              NaN         NaN   \n",
       "1              NaN         NaN   \n",
       "...            ...         ...   \n",
       "1049           NaN         NaN   \n",
       "1050           NaN         NaN   \n",
       "1051           NaN         NaN   \n",
       "1052           NaN         NaN   \n",
       "1053           NaN         NaN   \n",
       "\n",
       "                                         best_parameter  Destination  \\\n",
       "0                                   {'n_estimators': 5}          NaN   \n",
       "1                                     {'max_depth': 16}          NaN   \n",
       "2     {'base_estimator': None, 'learning_rate': 0.5,...          NaN   \n",
       "0                                                   NaN         14.0   \n",
       "1                                                   NaN         11.0   \n",
       "...                                                 ...          ...   \n",
       "1049                                                NaN         10.0   \n",
       "1050                                                NaN         22.0   \n",
       "1051                                                NaN          7.0   \n",
       "1052                                                NaN          4.0   \n",
       "1053                                                NaN          0.0   \n",
       "\n",
       "      Vehicle Type  Charges  \n",
       "0              NaN      NaN  \n",
       "1              NaN      NaN  \n",
       "2              NaN      NaN  \n",
       "0              1.0   1700.0  \n",
       "1              1.0   1400.0  \n",
       "...            ...      ...  \n",
       "1049           1.0   1450.0  \n",
       "1050           0.0    700.0  \n",
       "1051           0.0    600.0  \n",
       "1052           0.0   1600.0  \n",
       "1053           0.0   1600.0  \n",
       "\n",
       "[1057 rows x 6 columns]"
      ]
     },
     "execution_count": 180,
     "metadata": {},
     "output_type": "execute_result"
    }
   ],
   "source": [
    "score=pd.concat([score,df])\n",
    "score"
   ]
  },
  {
   "cell_type": "markdown",
   "id": "075c918f",
   "metadata": {},
   "source": [
    "<div style=\"padding:25px;color:black;margin:0;font-size:170%;text-align:center;display:fill;border-radius:10px;background-color:#B9C0C9;overflow:hidden;font-weight:500;font-family:magra\">Model performence comparison</div>"
   ]
  },
  {
   "cell_type": "code",
   "execution_count": 181,
   "id": "67f76031",
   "metadata": {},
   "outputs": [
    {
     "data": {
      "image/png": "[encoded data removed]",
      "text/plain": [
       "<Figure size 432x432 with 1 Axes>"
      ]
     },
     "metadata": {},
     "output_type": "display_data"
    }
   ],
   "source": [
    "plt.figure(figsize=(6,6))\n",
    "sns.set(style=\"whitegrid\")\n",
    "sns.barplot(y='model',x='best_score',data=score,color='#B9C0C9')\n",
    "\n",
    "plt.ylabel('model_name',fontdict={'fontsize':15},color='blue')\n",
    "plt.xlabel('score',fontdict={'fontsize':15},color='blue')\n",
    "plt.title('Best score',fontdict={'fontsize':15},color='red')\n",
    "plt.show()"
   ]
  },
  {
   "cell_type": "markdown",
   "id": "b453c2f5",
   "metadata": {},
   "source": [
    "<div style=\"padding:25px;color:black;margin:0;font-size:200%;text-align:center;display:fill;border-radius:10px;background-color:#B9C0C9;overflow:hidden;font-weight:500;font-family:magra\">Prediction and saving model</div>"
   ]
  },
  {
   "cell_type": "code",
   "execution_count": 187,
   "id": "ce85ad43",
   "metadata": {},
   "outputs": [],
   "source": [
    "model=RandomForestRegressor(n_estimators=10)"
   ]
  },
  {
   "cell_type": "code",
   "execution_count": 188,
   "id": "c08a2836",
   "metadata": {},
   "outputs": [
    {
     "data": {
      "text/plain": [
       "RandomForestRegressor(n_estimators=10)"
      ]
     },
     "execution_count": 188,
     "metadata": {},
     "output_type": "execute_result"
    }
   ],
   "source": [
    "model.fit(x_train,y_train)"
   ]
  },
  {
   "cell_type": "code",
   "execution_count": 189,
   "id": "ed7f1b61",
   "metadata": {},
   "outputs": [
    {
     "data": {
      "text/plain": [
       "0.9880473762507391"
      ]
     },
     "execution_count": 189,
     "metadata": {},
     "output_type": "execute_result"
    }
   ],
   "source": [
    "model.score(x_test,y_test)"
   ]
  },
  {
   "cell_type": "code",
   "execution_count": 190,
   "id": "5c61c944",
   "metadata": {},
   "outputs": [
    {
     "data": {
      "text/plain": [
       "array([1700.])"
      ]
     },
     "execution_count": 190,
     "metadata": {},
     "output_type": "execute_result"
    }
   ],
   "source": [
    "model.predict([[0,14,1]])"
   ]
  },
  {
   "cell_type": "code",
   "execution_count": 184,
   "id": "0e6abba9",
   "metadata": {},
   "outputs": [],
   "source": [
    "from joblib import dump"
   ]
  },
  {
   "cell_type": "code",
   "execution_count": 185,
   "id": "8270df65",
   "metadata": {},
   "outputs": [
    {
     "data": {
      "text/plain": [
       "['C:/Users/savad/Desktop/al_nashi/savedmodels/model.joblib']"
      ]
     },
     "execution_count": 185,
     "metadata": {},
     "output_type": "execute_result"
    }
   ],
   "source": [
    "dump(model,'C:/Users/savad/Desktop/al_nashi/savedmodels/model.joblib')"
   ]
  }
 ],
 "metadata": {
  "kernelspec": {
   "display_name": "Python 3 (ipykernel)",
   "language": "python",
   "name": "python3"
  },
  "language_info": {
   "codemirror_mode": {
    "name": "ipython",
    "version": 3
   },
   "file_extension": ".py",
   "mimetype": "text/x-python",
   "name": "python",
   "nbconvert_exporter": "python",
   "pygments_lexer": "ipython3",
   "version": "3.9.12"
  }
 },
 "nbformat": 4,
 "nbformat_minor": 5
}
